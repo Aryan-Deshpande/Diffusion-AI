{
 "cells": [
  {
   "cell_type": "code",
   "execution_count": 27,
   "metadata": {},
   "outputs": [
    {
     "name": "stdout",
     "output_type": "stream",
     "text": [
      "[49406, 2189, 997, 7716, 607, 1981, 5550, 49407]\n",
      "torch.Size([24, 1]) a.shape\n",
      "torch.Size([24, 24])\n",
      "torch.Size([2])\n"
     ]
    },
    {
     "ename": "RuntimeError",
     "evalue": "The size of tensor a (24) must match the size of tensor b (2) at non-singleton dimension 1",
     "output_type": "error",
     "traceback": [
      "\u001b[1;31m---------------------------------------------------------------------------\u001b[0m",
      "\u001b[1;31mRuntimeError\u001b[0m                              Traceback (most recent call last)",
      "\u001b[1;32mc:\\Users\\deshp\\Desktop\\😈\\testing_notebooks\\small_implementation.ipynb Cell 1\u001b[0m in \u001b[0;36m<cell line: 36>\u001b[1;34m()\u001b[0m\n\u001b[0;32m     <a href='vscode-notebook-cell:/c%3A/Users/deshp/Desktop/%F0%9F%98%88/testing_notebooks/small_implementation.ipynb#W0sZmlsZQ%3D%3D?line=32'>33</a>\u001b[0m \u001b[39mprint\u001b[39m(sqrt\u001b[39m.\u001b[39mshape)\n\u001b[0;32m     <a href='vscode-notebook-cell:/c%3A/Users/deshp/Desktop/%F0%9F%98%88/testing_notebooks/small_implementation.ipynb#W0sZmlsZQ%3D%3D?line=34'>35</a>\u001b[0m scaled1 \u001b[39m=\u001b[39m scaled1\u001b[39m.\u001b[39mview(scaled1\u001b[39m.\u001b[39msize(\u001b[39m0\u001b[39m),\u001b[39m-\u001b[39m\u001b[39m1\u001b[39m)\n\u001b[1;32m---> <a href='vscode-notebook-cell:/c%3A/Users/deshp/Desktop/%F0%9F%98%88/testing_notebooks/small_implementation.ipynb#W0sZmlsZQ%3D%3D?line=35'>36</a>\u001b[0m scaled1\u001b[39m/\u001b[39;49msqrt\n\u001b[0;32m     <a href='vscode-notebook-cell:/c%3A/Users/deshp/Desktop/%F0%9F%98%88/testing_notebooks/small_implementation.ipynb#W0sZmlsZQ%3D%3D?line=37'>38</a>\u001b[0m \u001b[39m\"\"\"attention = torch.nn.functional.softmax(scaled1)\u001b[39;00m\n\u001b[0;32m     <a href='vscode-notebook-cell:/c%3A/Users/deshp/Desktop/%F0%9F%98%88/testing_notebooks/small_implementation.ipynb#W0sZmlsZQ%3D%3D?line=38'>39</a>\u001b[0m \u001b[39mnew_vector = v * attention\u001b[39;00m\n\u001b[0;32m     <a href='vscode-notebook-cell:/c%3A/Users/deshp/Desktop/%F0%9F%98%88/testing_notebooks/small_implementation.ipynb#W0sZmlsZQ%3D%3D?line=39'>40</a>\u001b[0m \u001b[39mnew_vector\"\"\"\u001b[39;00m\n",
      "\u001b[1;31mRuntimeError\u001b[0m: The size of tensor a (24) must match the size of tensor b (2) at non-singleton dimension 1"
     ]
    }
   ],
   "source": [
    "import torch\n",
    "import torch.nn as nn\n",
    "from torchvision import transforms\n",
    "\n",
    "batch_size = 1\n",
    "sequence_length = 6\n",
    "\n",
    "from transformers import CLIPTokenizer\n",
    "tokenizer = CLIPTokenizer.from_pretrained('openai/clip-vit-base-patch32')\n",
    "text = 'HEY THERE BABE MY NAME JEFF'\n",
    "encoded = tokenizer.encode(text)\n",
    "print(encoded)\n",
    "\n",
    "encoded = torch.tensor(encoded)\n",
    "linear = nn.Linear(len(encoded), 3*len(encoded))\n",
    "encoded\n",
    "\n",
    "encoded = encoded.to(torch.float)\n",
    "a = linear(encoded)\n",
    "a = a.view(a.size(0),-1)\n",
    "print(a.shape, \"a.shape\")\n",
    "\n",
    "q = a \n",
    "d_k = torch.tensor(q.shape)\n",
    "\n",
    "k =a\n",
    "v =a\n",
    "\n",
    "scaled1 = torch.matmul(q,k.mT)\n",
    "print(scaled1.shape)\n",
    "\n",
    "sqrt = (torch.sqrt(d_k))\n",
    "print(sqrt.shape)\n",
    "\n",
    "scaled1 = scaled1.view(scaled1.size(0),-1)\n",
    "scaled1/sqrt\n",
    "\n",
    "\"\"\"attention = torch.nn.functional.softmax(scaled1)\n",
    "new_vector = v * attention\n",
    "new_vector\"\"\"\n",
    "\n"
   ]
  }
 ],
 "metadata": {
  "kernelspec": {
   "display_name": "Python 3",
   "language": "python",
   "name": "python3"
  },
  "language_info": {
   "codemirror_mode": {
    "name": "ipython",
    "version": 3
   },
   "file_extension": ".py",
   "mimetype": "text/x-python",
   "name": "python",
   "nbconvert_exporter": "python",
   "pygments_lexer": "ipython3",
   "version": "3.10.4"
  },
  "orig_nbformat": 4
 },
 "nbformat": 4,
 "nbformat_minor": 2
}
